{
 "cells": [
  {
   "cell_type": "code",
   "execution_count": 67,
   "id": "7a48f670-67bb-4cf0-802f-07214894363f",
   "metadata": {},
   "outputs": [
    {
     "name": "stderr",
     "output_type": "stream",
     "text": [
      "ERROR: Could not find a version that satisfies the requirement kaggl (from versions: none)\n",
      "ERROR: No matching distribution found for kaggl\n"
     ]
    }
   ],
   "source": [
    "!pip install -q kaggl\n",
    "\n"
   ]
  },
  {
   "cell_type": "code",
   "execution_count": 68,
   "id": "55db2e5f-ded3-4f22-9d1a-041b3a61b2ec",
   "metadata": {},
   "outputs": [
    {
     "name": "stdout",
     "output_type": "stream",
     "text": [
      "Requirement already satisfied: pandas in c:\\users\\hp\\anaconda3\\lib\\site-packages (1.4.4)\n",
      "Requirement already satisfied: python-dateutil>=2.8.1 in c:\\users\\hp\\anaconda3\\lib\\site-packages (from pandas) (2.8.2)\n",
      "Requirement already satisfied: pytz>=2020.1 in c:\\users\\hp\\anaconda3\\lib\\site-packages (from pandas) (2022.1)\n",
      "Requirement already satisfied: numpy>=1.18.5 in c:\\users\\hp\\anaconda3\\lib\\site-packages (from pandas) (1.21.5)\n",
      "Requirement already satisfied: six>=1.5 in c:\\users\\hp\\anaconda3\\lib\\site-packages (from python-dateutil>=2.8.1->pandas) (1.16.0)\n",
      "Note: you may need to restart the kernel to use updated packages.\n"
     ]
    }
   ],
   "source": [
    "pip install pandas"
   ]
  },
  {
   "cell_type": "code",
   "execution_count": 69,
   "id": "69f252d0-7eee-4034-9676-8f9f431414b2",
   "metadata": {},
   "outputs": [],
   "source": [
    "import pandas as pd"
   ]
  },
  {
   "cell_type": "code",
   "execution_count": 70,
   "id": "2c3c1d81-7515-41fc-bd33-5957bc2e8b2f",
   "metadata": {},
   "outputs": [],
   "source": [
    "ds=pd.read_csv('pollution_2000_2023.csv')"
   ]
  },
  {
   "cell_type": "code",
   "execution_count": 71,
   "id": "2b50647f-0427-4fae-aec8-12737bcb8f9e",
   "metadata": {},
   "outputs": [
    {
     "data": {
      "text/html": [
       "<div>\n",
       "<style scoped>\n",
       "    .dataframe tbody tr th:only-of-type {\n",
       "        vertical-align: middle;\n",
       "    }\n",
       "\n",
       "    .dataframe tbody tr th {\n",
       "        vertical-align: top;\n",
       "    }\n",
       "\n",
       "    .dataframe thead th {\n",
       "        text-align: right;\n",
       "    }\n",
       "</style>\n",
       "<table border=\"1\" class=\"dataframe\">\n",
       "  <thead>\n",
       "    <tr style=\"text-align: right;\">\n",
       "      <th></th>\n",
       "      <th>Unnamed: 0</th>\n",
       "      <th>Date</th>\n",
       "      <th>Address</th>\n",
       "      <th>State</th>\n",
       "      <th>County</th>\n",
       "      <th>City</th>\n",
       "      <th>O3 Mean</th>\n",
       "      <th>O3 1st Max Value</th>\n",
       "      <th>O3 1st Max Hour</th>\n",
       "      <th>O3 AQI</th>\n",
       "      <th>...</th>\n",
       "      <th>CO 1st Max Hour</th>\n",
       "      <th>CO AQI</th>\n",
       "      <th>SO2 Mean</th>\n",
       "      <th>SO2 1st Max Value</th>\n",
       "      <th>SO2 1st Max Hour</th>\n",
       "      <th>SO2 AQI</th>\n",
       "      <th>NO2 Mean</th>\n",
       "      <th>NO2 1st Max Value</th>\n",
       "      <th>NO2 1st Max Hour</th>\n",
       "      <th>NO2 AQI</th>\n",
       "    </tr>\n",
       "  </thead>\n",
       "  <tbody>\n",
       "    <tr>\n",
       "      <th>0</th>\n",
       "      <td>0</td>\n",
       "      <td>2000-01-01</td>\n",
       "      <td>1645 E ROOSEVELT ST-CENTRAL PHOENIX STN</td>\n",
       "      <td>Arizona</td>\n",
       "      <td>Maricopa</td>\n",
       "      <td>Phoenix</td>\n",
       "      <td>0.019765</td>\n",
       "      <td>0.040</td>\n",
       "      <td>10</td>\n",
       "      <td>37</td>\n",
       "      <td>...</td>\n",
       "      <td>23</td>\n",
       "      <td>25.0</td>\n",
       "      <td>3.000000</td>\n",
       "      <td>9.0</td>\n",
       "      <td>21</td>\n",
       "      <td>13.0</td>\n",
       "      <td>19.041667</td>\n",
       "      <td>49.0</td>\n",
       "      <td>19</td>\n",
       "      <td>46</td>\n",
       "    </tr>\n",
       "    <tr>\n",
       "      <th>1</th>\n",
       "      <td>1</td>\n",
       "      <td>2000-01-02</td>\n",
       "      <td>1645 E ROOSEVELT ST-CENTRAL PHOENIX STN</td>\n",
       "      <td>Arizona</td>\n",
       "      <td>Maricopa</td>\n",
       "      <td>Phoenix</td>\n",
       "      <td>0.015882</td>\n",
       "      <td>0.032</td>\n",
       "      <td>10</td>\n",
       "      <td>30</td>\n",
       "      <td>...</td>\n",
       "      <td>0</td>\n",
       "      <td>26.0</td>\n",
       "      <td>1.958333</td>\n",
       "      <td>3.0</td>\n",
       "      <td>22</td>\n",
       "      <td>4.0</td>\n",
       "      <td>22.958333</td>\n",
       "      <td>36.0</td>\n",
       "      <td>19</td>\n",
       "      <td>34</td>\n",
       "    </tr>\n",
       "    <tr>\n",
       "      <th>2</th>\n",
       "      <td>2</td>\n",
       "      <td>2000-01-03</td>\n",
       "      <td>1645 E ROOSEVELT ST-CENTRAL PHOENIX STN</td>\n",
       "      <td>Arizona</td>\n",
       "      <td>Maricopa</td>\n",
       "      <td>Phoenix</td>\n",
       "      <td>0.009353</td>\n",
       "      <td>0.016</td>\n",
       "      <td>9</td>\n",
       "      <td>15</td>\n",
       "      <td>...</td>\n",
       "      <td>8</td>\n",
       "      <td>28.0</td>\n",
       "      <td>5.250000</td>\n",
       "      <td>11.0</td>\n",
       "      <td>19</td>\n",
       "      <td>16.0</td>\n",
       "      <td>38.125000</td>\n",
       "      <td>51.0</td>\n",
       "      <td>8</td>\n",
       "      <td>48</td>\n",
       "    </tr>\n",
       "    <tr>\n",
       "      <th>3</th>\n",
       "      <td>3</td>\n",
       "      <td>2000-01-04</td>\n",
       "      <td>1645 E ROOSEVELT ST-CENTRAL PHOENIX STN</td>\n",
       "      <td>Arizona</td>\n",
       "      <td>Maricopa</td>\n",
       "      <td>Phoenix</td>\n",
       "      <td>0.015882</td>\n",
       "      <td>0.033</td>\n",
       "      <td>9</td>\n",
       "      <td>31</td>\n",
       "      <td>...</td>\n",
       "      <td>23</td>\n",
       "      <td>34.0</td>\n",
       "      <td>7.083333</td>\n",
       "      <td>16.0</td>\n",
       "      <td>8</td>\n",
       "      <td>23.0</td>\n",
       "      <td>40.260870</td>\n",
       "      <td>74.0</td>\n",
       "      <td>8</td>\n",
       "      <td>72</td>\n",
       "    </tr>\n",
       "    <tr>\n",
       "      <th>4</th>\n",
       "      <td>4</td>\n",
       "      <td>2000-01-05</td>\n",
       "      <td>1645 E ROOSEVELT ST-CENTRAL PHOENIX STN</td>\n",
       "      <td>Arizona</td>\n",
       "      <td>Maricopa</td>\n",
       "      <td>Phoenix</td>\n",
       "      <td>0.007353</td>\n",
       "      <td>0.012</td>\n",
       "      <td>9</td>\n",
       "      <td>11</td>\n",
       "      <td>...</td>\n",
       "      <td>2</td>\n",
       "      <td>42.0</td>\n",
       "      <td>8.708333</td>\n",
       "      <td>15.0</td>\n",
       "      <td>7</td>\n",
       "      <td>21.0</td>\n",
       "      <td>48.450000</td>\n",
       "      <td>61.0</td>\n",
       "      <td>22</td>\n",
       "      <td>58</td>\n",
       "    </tr>\n",
       "    <tr>\n",
       "      <th>...</th>\n",
       "      <td>...</td>\n",
       "      <td>...</td>\n",
       "      <td>...</td>\n",
       "      <td>...</td>\n",
       "      <td>...</td>\n",
       "      <td>...</td>\n",
       "      <td>...</td>\n",
       "      <td>...</td>\n",
       "      <td>...</td>\n",
       "      <td>...</td>\n",
       "      <td>...</td>\n",
       "      <td>...</td>\n",
       "      <td>...</td>\n",
       "      <td>...</td>\n",
       "      <td>...</td>\n",
       "      <td>...</td>\n",
       "      <td>...</td>\n",
       "      <td>...</td>\n",
       "      <td>...</td>\n",
       "      <td>...</td>\n",
       "      <td>...</td>\n",
       "    </tr>\n",
       "    <tr>\n",
       "      <th>665409</th>\n",
       "      <td>665409</td>\n",
       "      <td>2023-06-26</td>\n",
       "      <td>NCore - North Cheyenne Soccer Complex</td>\n",
       "      <td>Wyoming</td>\n",
       "      <td>Laramie</td>\n",
       "      <td>Cheyenne</td>\n",
       "      <td>0.043941</td>\n",
       "      <td>0.050</td>\n",
       "      <td>12</td>\n",
       "      <td>46</td>\n",
       "      <td>...</td>\n",
       "      <td>0</td>\n",
       "      <td>0.0</td>\n",
       "      <td>0.117391</td>\n",
       "      <td>0.3</td>\n",
       "      <td>7</td>\n",
       "      <td>0.0</td>\n",
       "      <td>2.282609</td>\n",
       "      <td>4.3</td>\n",
       "      <td>6</td>\n",
       "      <td>4</td>\n",
       "    </tr>\n",
       "    <tr>\n",
       "      <th>665410</th>\n",
       "      <td>665410</td>\n",
       "      <td>2023-06-27</td>\n",
       "      <td>NCore - North Cheyenne Soccer Complex</td>\n",
       "      <td>Wyoming</td>\n",
       "      <td>Laramie</td>\n",
       "      <td>Cheyenne</td>\n",
       "      <td>0.046235</td>\n",
       "      <td>0.054</td>\n",
       "      <td>12</td>\n",
       "      <td>50</td>\n",
       "      <td>...</td>\n",
       "      <td>0</td>\n",
       "      <td>0.0</td>\n",
       "      <td>0.091667</td>\n",
       "      <td>0.2</td>\n",
       "      <td>8</td>\n",
       "      <td>0.0</td>\n",
       "      <td>2.283333</td>\n",
       "      <td>5.2</td>\n",
       "      <td>6</td>\n",
       "      <td>5</td>\n",
       "    </tr>\n",
       "    <tr>\n",
       "      <th>665411</th>\n",
       "      <td>665411</td>\n",
       "      <td>2023-06-28</td>\n",
       "      <td>NCore - North Cheyenne Soccer Complex</td>\n",
       "      <td>Wyoming</td>\n",
       "      <td>Laramie</td>\n",
       "      <td>Cheyenne</td>\n",
       "      <td>0.046588</td>\n",
       "      <td>0.055</td>\n",
       "      <td>7</td>\n",
       "      <td>51</td>\n",
       "      <td>...</td>\n",
       "      <td>0</td>\n",
       "      <td>0.0</td>\n",
       "      <td>0.091667</td>\n",
       "      <td>0.2</td>\n",
       "      <td>6</td>\n",
       "      <td>0.0</td>\n",
       "      <td>2.487500</td>\n",
       "      <td>4.8</td>\n",
       "      <td>19</td>\n",
       "      <td>4</td>\n",
       "    </tr>\n",
       "    <tr>\n",
       "      <th>665412</th>\n",
       "      <td>665412</td>\n",
       "      <td>2023-06-29</td>\n",
       "      <td>NCore - North Cheyenne Soccer Complex</td>\n",
       "      <td>Wyoming</td>\n",
       "      <td>Laramie</td>\n",
       "      <td>Cheyenne</td>\n",
       "      <td>0.048765</td>\n",
       "      <td>0.056</td>\n",
       "      <td>9</td>\n",
       "      <td>54</td>\n",
       "      <td>...</td>\n",
       "      <td>0</td>\n",
       "      <td>0.0</td>\n",
       "      <td>0.052174</td>\n",
       "      <td>0.1</td>\n",
       "      <td>8</td>\n",
       "      <td>0.0</td>\n",
       "      <td>2.086957</td>\n",
       "      <td>4.1</td>\n",
       "      <td>8</td>\n",
       "      <td>4</td>\n",
       "    </tr>\n",
       "    <tr>\n",
       "      <th>665413</th>\n",
       "      <td>665413</td>\n",
       "      <td>2023-06-30</td>\n",
       "      <td>NCore - North Cheyenne Soccer Complex</td>\n",
       "      <td>Wyoming</td>\n",
       "      <td>Laramie</td>\n",
       "      <td>Cheyenne</td>\n",
       "      <td>0.048333</td>\n",
       "      <td>0.051</td>\n",
       "      <td>7</td>\n",
       "      <td>47</td>\n",
       "      <td>...</td>\n",
       "      <td>0</td>\n",
       "      <td>0.0</td>\n",
       "      <td>0.020833</td>\n",
       "      <td>0.2</td>\n",
       "      <td>11</td>\n",
       "      <td>0.0</td>\n",
       "      <td>3.200000</td>\n",
       "      <td>14.8</td>\n",
       "      <td>3</td>\n",
       "      <td>13</td>\n",
       "    </tr>\n",
       "  </tbody>\n",
       "</table>\n",
       "<p>665414 rows × 22 columns</p>\n",
       "</div>"
      ],
      "text/plain": [
       "        Unnamed: 0        Date                                  Address  \\\n",
       "0                0  2000-01-01  1645 E ROOSEVELT ST-CENTRAL PHOENIX STN   \n",
       "1                1  2000-01-02  1645 E ROOSEVELT ST-CENTRAL PHOENIX STN   \n",
       "2                2  2000-01-03  1645 E ROOSEVELT ST-CENTRAL PHOENIX STN   \n",
       "3                3  2000-01-04  1645 E ROOSEVELT ST-CENTRAL PHOENIX STN   \n",
       "4                4  2000-01-05  1645 E ROOSEVELT ST-CENTRAL PHOENIX STN   \n",
       "...            ...         ...                                      ...   \n",
       "665409      665409  2023-06-26    NCore - North Cheyenne Soccer Complex   \n",
       "665410      665410  2023-06-27    NCore - North Cheyenne Soccer Complex   \n",
       "665411      665411  2023-06-28    NCore - North Cheyenne Soccer Complex   \n",
       "665412      665412  2023-06-29    NCore - North Cheyenne Soccer Complex   \n",
       "665413      665413  2023-06-30    NCore - North Cheyenne Soccer Complex   \n",
       "\n",
       "          State    County      City   O3 Mean  O3 1st Max Value  \\\n",
       "0       Arizona  Maricopa   Phoenix  0.019765             0.040   \n",
       "1       Arizona  Maricopa   Phoenix  0.015882             0.032   \n",
       "2       Arizona  Maricopa   Phoenix  0.009353             0.016   \n",
       "3       Arizona  Maricopa   Phoenix  0.015882             0.033   \n",
       "4       Arizona  Maricopa   Phoenix  0.007353             0.012   \n",
       "...         ...       ...       ...       ...               ...   \n",
       "665409  Wyoming   Laramie  Cheyenne  0.043941             0.050   \n",
       "665410  Wyoming   Laramie  Cheyenne  0.046235             0.054   \n",
       "665411  Wyoming   Laramie  Cheyenne  0.046588             0.055   \n",
       "665412  Wyoming   Laramie  Cheyenne  0.048765             0.056   \n",
       "665413  Wyoming   Laramie  Cheyenne  0.048333             0.051   \n",
       "\n",
       "        O3 1st Max Hour  O3 AQI  ...  CO 1st Max Hour  CO AQI  SO2 Mean  \\\n",
       "0                    10      37  ...               23    25.0  3.000000   \n",
       "1                    10      30  ...                0    26.0  1.958333   \n",
       "2                     9      15  ...                8    28.0  5.250000   \n",
       "3                     9      31  ...               23    34.0  7.083333   \n",
       "4                     9      11  ...                2    42.0  8.708333   \n",
       "...                 ...     ...  ...              ...     ...       ...   \n",
       "665409               12      46  ...                0     0.0  0.117391   \n",
       "665410               12      50  ...                0     0.0  0.091667   \n",
       "665411                7      51  ...                0     0.0  0.091667   \n",
       "665412                9      54  ...                0     0.0  0.052174   \n",
       "665413                7      47  ...                0     0.0  0.020833   \n",
       "\n",
       "        SO2 1st Max Value  SO2 1st Max Hour  SO2 AQI   NO2 Mean  \\\n",
       "0                     9.0                21     13.0  19.041667   \n",
       "1                     3.0                22      4.0  22.958333   \n",
       "2                    11.0                19     16.0  38.125000   \n",
       "3                    16.0                 8     23.0  40.260870   \n",
       "4                    15.0                 7     21.0  48.450000   \n",
       "...                   ...               ...      ...        ...   \n",
       "665409                0.3                 7      0.0   2.282609   \n",
       "665410                0.2                 8      0.0   2.283333   \n",
       "665411                0.2                 6      0.0   2.487500   \n",
       "665412                0.1                 8      0.0   2.086957   \n",
       "665413                0.2                11      0.0   3.200000   \n",
       "\n",
       "        NO2 1st Max Value  NO2 1st Max Hour  NO2 AQI  \n",
       "0                    49.0                19       46  \n",
       "1                    36.0                19       34  \n",
       "2                    51.0                 8       48  \n",
       "3                    74.0                 8       72  \n",
       "4                    61.0                22       58  \n",
       "...                   ...               ...      ...  \n",
       "665409                4.3                 6        4  \n",
       "665410                5.2                 6        5  \n",
       "665411                4.8                19        4  \n",
       "665412                4.1                 8        4  \n",
       "665413               14.8                 3       13  \n",
       "\n",
       "[665414 rows x 22 columns]"
      ]
     },
     "execution_count": 71,
     "metadata": {},
     "output_type": "execute_result"
    }
   ],
   "source": [
    "ds"
   ]
  },
  {
   "cell_type": "code",
   "execution_count": 72,
   "id": "eae01db2-4f16-4d73-9283-cece0ac8e46b",
   "metadata": {},
   "outputs": [
    {
     "name": "stdout",
     "output_type": "stream",
     "text": [
      "<class 'pandas.core.frame.DataFrame'>\n",
      "RangeIndex: 665414 entries, 0 to 665413\n",
      "Data columns (total 22 columns):\n",
      " #   Column             Non-Null Count   Dtype  \n",
      "---  ------             --------------   -----  \n",
      " 0   Unnamed: 0         665414 non-null  int64  \n",
      " 1   Date               665414 non-null  object \n",
      " 2   Address            665414 non-null  object \n",
      " 3   State              665414 non-null  object \n",
      " 4   County             665414 non-null  object \n",
      " 5   City               665414 non-null  object \n",
      " 6   O3 Mean            665414 non-null  float64\n",
      " 7   O3 1st Max Value   665414 non-null  float64\n",
      " 8   O3 1st Max Hour    665414 non-null  int64  \n",
      " 9   O3 AQI             665414 non-null  int64  \n",
      " 10  CO Mean            665414 non-null  float64\n",
      " 11  CO 1st Max Value   665414 non-null  float64\n",
      " 12  CO 1st Max Hour    665414 non-null  int64  \n",
      " 13  CO AQI             665414 non-null  float64\n",
      " 14  SO2 Mean           665414 non-null  float64\n",
      " 15  SO2 1st Max Value  665414 non-null  float64\n",
      " 16  SO2 1st Max Hour   665414 non-null  int64  \n",
      " 17  SO2 AQI            665414 non-null  float64\n",
      " 18  NO2 Mean           665414 non-null  float64\n",
      " 19  NO2 1st Max Value  665414 non-null  float64\n",
      " 20  NO2 1st Max Hour   665414 non-null  int64  \n",
      " 21  NO2 AQI            665414 non-null  int64  \n",
      "dtypes: float64(10), int64(7), object(5)\n",
      "memory usage: 111.7+ MB\n"
     ]
    }
   ],
   "source": [
    "ds.info()"
   ]
  },
  {
   "cell_type": "code",
   "execution_count": 73,
   "id": "2501d2d6-3adf-4f43-bdd2-a01b19cf3f9a",
   "metadata": {},
   "outputs": [
    {
     "data": {
      "text/plain": [
       "0         2000-01-01\n",
       "1         2000-01-02\n",
       "2         2000-01-03\n",
       "3         2000-01-04\n",
       "4         2000-01-05\n",
       "             ...    \n",
       "665409    2023-06-26\n",
       "665410    2023-06-27\n",
       "665411    2023-06-28\n",
       "665412    2023-06-29\n",
       "665413    2023-06-30\n",
       "Name: Date, Length: 665414, dtype: object"
      ]
     },
     "execution_count": 73,
     "metadata": {},
     "output_type": "execute_result"
    }
   ],
   "source": [
    "ds.Date"
   ]
  },
  {
   "cell_type": "code",
   "execution_count": 74,
   "id": "f7446421-3162-44d6-8626-cc80d42377df",
   "metadata": {},
   "outputs": [
    {
     "data": {
      "text/plain": [
       "0         1645 E ROOSEVELT ST-CENTRAL PHOENIX STN\n",
       "1         1645 E ROOSEVELT ST-CENTRAL PHOENIX STN\n",
       "2         1645 E ROOSEVELT ST-CENTRAL PHOENIX STN\n",
       "3         1645 E ROOSEVELT ST-CENTRAL PHOENIX STN\n",
       "4         1645 E ROOSEVELT ST-CENTRAL PHOENIX STN\n",
       "                           ...                   \n",
       "665409      NCore - North Cheyenne Soccer Complex\n",
       "665410      NCore - North Cheyenne Soccer Complex\n",
       "665411      NCore - North Cheyenne Soccer Complex\n",
       "665412      NCore - North Cheyenne Soccer Complex\n",
       "665413      NCore - North Cheyenne Soccer Complex\n",
       "Name: Address, Length: 665414, dtype: object"
      ]
     },
     "execution_count": 74,
     "metadata": {},
     "output_type": "execute_result"
    }
   ],
   "source": [
    "ds.Address"
   ]
  },
  {
   "cell_type": "code",
   "execution_count": 75,
   "id": "0c3d71b6-d8e6-466e-88f3-a25d53886409",
   "metadata": {},
   "outputs": [
    {
     "data": {
      "text/plain": [
       "0         Arizona\n",
       "1         Arizona\n",
       "2         Arizona\n",
       "3         Arizona\n",
       "4         Arizona\n",
       "           ...   \n",
       "665409    Wyoming\n",
       "665410    Wyoming\n",
       "665411    Wyoming\n",
       "665412    Wyoming\n",
       "665413    Wyoming\n",
       "Name: State, Length: 665414, dtype: object"
      ]
     },
     "execution_count": 75,
     "metadata": {},
     "output_type": "execute_result"
    }
   ],
   "source": [
    "ds.State"
   ]
  },
  {
   "cell_type": "code",
   "execution_count": 76,
   "id": "e3a510ae-f6c4-45f7-bb1f-d6f4495ea6d1",
   "metadata": {},
   "outputs": [
    {
     "data": {
      "text/plain": [
       "0         Maricopa\n",
       "1         Maricopa\n",
       "2         Maricopa\n",
       "3         Maricopa\n",
       "4         Maricopa\n",
       "            ...   \n",
       "665409     Laramie\n",
       "665410     Laramie\n",
       "665411     Laramie\n",
       "665412     Laramie\n",
       "665413     Laramie\n",
       "Name: County, Length: 665414, dtype: object"
      ]
     },
     "execution_count": 76,
     "metadata": {},
     "output_type": "execute_result"
    }
   ],
   "source": [
    "ds.County"
   ]
  },
  {
   "cell_type": "code",
   "execution_count": 77,
   "id": "4e793a87-35d6-4d0d-8786-7eda91b118f8",
   "metadata": {},
   "outputs": [
    {
     "data": {
      "text/plain": [
       "0          Phoenix\n",
       "1          Phoenix\n",
       "2          Phoenix\n",
       "3          Phoenix\n",
       "4          Phoenix\n",
       "            ...   \n",
       "665409    Cheyenne\n",
       "665410    Cheyenne\n",
       "665411    Cheyenne\n",
       "665412    Cheyenne\n",
       "665413    Cheyenne\n",
       "Name: City, Length: 665414, dtype: object"
      ]
     },
     "execution_count": 77,
     "metadata": {},
     "output_type": "execute_result"
    }
   ],
   "source": [
    "ds.City"
   ]
  },
  {
   "cell_type": "code",
   "execution_count": 78,
   "id": "8ababedb-53c6-45b6-bb9f-9ba0251f525f",
   "metadata": {},
   "outputs": [],
   "source": [
    "x=ds[['O3 Mean']]"
   ]
  },
  {
   "cell_type": "code",
   "execution_count": 89,
   "id": "68c972c9-2363-4c33-a3b1-8b5a5bd9f451",
   "metadata": {},
   "outputs": [
    {
     "data": {
      "text/plain": [
       "O3 Mean    0.028605\n",
       "dtype: float64"
      ]
     },
     "execution_count": 89,
     "metadata": {},
     "output_type": "execute_result"
    }
   ],
   "source": [
    "x.mean()"
   ]
  },
  {
   "cell_type": "code",
   "execution_count": 28,
   "id": "bf7ad316-9b40-4f54-a254-2d2087eaf554",
   "metadata": {},
   "outputs": [
    {
     "data": {
      "text/plain": [
       "<AxesSubplot:ylabel='Frequency'>"
      ]
     },
     "execution_count": 28,
     "metadata": {},
     "output_type": "execute_result"
    },
    {
     "data": {
      "image/png": "[encoded data removed]",
      "text/plain": [
       "<Figure size 640x480 with 1 Axes>"
      ]
     },
     "metadata": {},
     "output_type": "display_data"
    }
   ],
   "source": [
    "ds['O3 Mean'].plot.hist()"
   ]
  },
  {
   "cell_type": "code",
   "execution_count": 80,
   "id": "e83a3848-3712-48d4-b378-6a3ec4a6b179",
   "metadata": {},
   "outputs": [],
   "source": [
    "x1=ds[['O3 1st Max Value']]"
   ]
  },
  {
   "cell_type": "code",
   "execution_count": 88,
   "id": "265ee07c-3651-48a8-acc8-1378ecd6e373",
   "metadata": {},
   "outputs": [
    {
     "data": {
      "text/plain": [
       "O3 1st Max Value    0.14\n",
       "dtype: float64"
      ]
     },
     "execution_count": 88,
     "metadata": {},
     "output_type": "execute_result"
    }
   ],
   "source": [
    "x1.max()"
   ]
  },
  {
   "cell_type": "code",
   "execution_count": 82,
   "id": "072759ec-ea7b-40f1-b708-63b363f4374b",
   "metadata": {},
   "outputs": [],
   "source": [
    "x2=ds[['O3 1st Max Hour']]"
   ]
  },
  {
   "cell_type": "code",
   "execution_count": 87,
   "id": "b2377741-7746-4ba1-aec9-bb2bbbe43f12",
   "metadata": {},
   "outputs": [
    {
     "data": {
      "text/plain": [
       "O3 1st Max Hour    23\n",
       "dtype: int64"
      ]
     },
     "execution_count": 87,
     "metadata": {},
     "output_type": "execute_result"
    }
   ],
   "source": [
    "x2.max()"
   ]
  },
  {
   "cell_type": "code",
   "execution_count": 90,
   "id": "5b780f67-f34c-481f-8ba3-fab21f58019d",
   "metadata": {},
   "outputs": [
    {
     "data": {
      "text/plain": [
       "O3 Mean    19034.06209\n",
       "dtype: float64"
      ]
     },
     "execution_count": 90,
     "metadata": {},
     "output_type": "execute_result"
    }
   ],
   "source": [
    "x3=ds[['O3 AQI']]\n",
    "x.sum()"
   ]
  },
  {
   "cell_type": "code",
   "execution_count": 85,
   "id": "6e50d303-cea1-4b44-b486-7d1957ae449f",
   "metadata": {},
   "outputs": [],
   "source": [
    "x4=ds[['CO 1st Max Hour']]"
   ]
  },
  {
   "cell_type": "code",
   "execution_count": 86,
   "id": "4d9b8650-943b-4835-88c7-225c770b2200",
   "metadata": {},
   "outputs": [
    {
     "data": {
      "text/plain": [
       "CO 1st Max Hour    5.922553\n",
       "dtype: float64"
      ]
     },
     "execution_count": 86,
     "metadata": {},
     "output_type": "execute_result"
    }
   ],
   "source": [
    "x4.mean()"
   ]
  },
  {
   "cell_type": "code",
   "execution_count": 93,
   "id": "5d00e01f-b21d-42be-a7ad-ff4ef1db040e",
   "metadata": {},
   "outputs": [
    {
     "data": {
      "text/plain": [
       "CO AQI    201.0\n",
       "dtype: float64"
      ]
     },
     "execution_count": 93,
     "metadata": {},
     "output_type": "execute_result"
    }
   ],
   "source": [
    "x5=ds[['CO AQI']]\n",
    "x5.max()"
   ]
  },
  {
   "cell_type": "code",
   "execution_count": 95,
   "id": "ce050922-b24e-432a-b214-87adb053afa8",
   "metadata": {},
   "outputs": [
    {
     "data": {
      "text/plain": [
       "SO2 Mean    1.428759\n",
       "dtype: float64"
      ]
     },
     "execution_count": 95,
     "metadata": {},
     "output_type": "execute_result"
    }
   ],
   "source": [
    "x6=ds[['SO2 Mean']]\n",
    "x6.mean()"
   ]
  },
  {
   "cell_type": "code",
   "execution_count": 96,
   "id": "e251eb86-4c93-4a0c-95c3-e0fc609db644",
   "metadata": {},
   "outputs": [
    {
     "data": {
      "text/plain": [
       "SO2 1st Max Value    351.0\n",
       "dtype: float64"
      ]
     },
     "execution_count": 96,
     "metadata": {},
     "output_type": "execute_result"
    }
   ],
   "source": [
    "x7=ds[['SO2 1st Max Value']]\n",
    "x7.max()"
   ]
  },
  {
   "cell_type": "code",
   "execution_count": 97,
   "id": "8bfde968-d9d5-4db2-beeb-635c909e69fa",
   "metadata": {},
   "outputs": [
    {
     "data": {
      "text/plain": [
       "NO2 1st Max Hour    23\n",
       "dtype: int64"
      ]
     },
     "execution_count": 97,
     "metadata": {},
     "output_type": "execute_result"
    }
   ],
   "source": [
    "x=ds[['NO2 1st Max Hour']]\n",
    "x.max()"
   ]
  },
  {
   "cell_type": "code",
   "execution_count": 98,
   "id": "d281d766-2c5c-435f-88f6-015640f5b907",
   "metadata": {},
   "outputs": [
    {
     "data": {
      "text/plain": [
       "SO2 AQI    3430038.0\n",
       "dtype: float64"
      ]
     },
     "execution_count": 98,
     "metadata": {},
     "output_type": "execute_result"
    }
   ],
   "source": [
    "x=ds[['SO2 AQI']]\n",
    "x.sum()"
   ]
  },
  {
   "cell_type": "code",
   "execution_count": 99,
   "id": "7b330bc4-2be0-4cb9-925c-2716b118f11b",
   "metadata": {},
   "outputs": [
    {
     "data": {
      "text/plain": [
       "NO2 Mean    11.510561\n",
       "dtype: float64"
      ]
     },
     "execution_count": 99,
     "metadata": {},
     "output_type": "execute_result"
    }
   ],
   "source": [
    "x=ds[['NO2 Mean']]\n",
    "x.mean()"
   ]
  },
  {
   "cell_type": "code",
   "execution_count": 100,
   "id": "fce9b9cf-3de0-423d-b432-aef3e15f1f58",
   "metadata": {},
   "outputs": [
    {
     "data": {
      "text/plain": [
       "NO2 1st Max Value    371.7\n",
       "dtype: float64"
      ]
     },
     "execution_count": 100,
     "metadata": {},
     "output_type": "execute_result"
    }
   ],
   "source": [
    "x=ds[['NO2 1st Max Value']]\n",
    "x.max()"
   ]
  },
  {
   "cell_type": "code",
   "execution_count": 101,
   "id": "8b1dd57c-4763-4ccf-aeb5-f59dc8b6e6d2",
   "metadata": {},
   "outputs": [
    {
     "data": {
      "text/plain": [
       "NO2 1st Max Hour    23\n",
       "dtype: int64"
      ]
     },
     "execution_count": 101,
     "metadata": {},
     "output_type": "execute_result"
    }
   ],
   "source": [
    "x=ds[['NO2 1st Max Hour']]\n",
    "x.max()"
   ]
  },
  {
   "cell_type": "code",
   "execution_count": 25,
   "id": "0dec6bf6-77b4-45cb-be6e-5a0248b387f6",
   "metadata": {},
   "outputs": [
    {
     "name": "stdout",
     "output_type": "stream",
     "text": [
      "        Unnamed: 0        Date                                  Address  \\\n",
      "0                0  2000-01-01  1645 E ROOSEVELT ST-CENTRAL PHOENIX STN   \n",
      "1                1  2000-01-02  1645 E ROOSEVELT ST-CENTRAL PHOENIX STN   \n",
      "2                2  2000-01-03  1645 E ROOSEVELT ST-CENTRAL PHOENIX STN   \n",
      "3                3  2000-01-04  1645 E ROOSEVELT ST-CENTRAL PHOENIX STN   \n",
      "4                4  2000-01-05  1645 E ROOSEVELT ST-CENTRAL PHOENIX STN   \n",
      "...            ...         ...                                      ...   \n",
      "665409      665409  2023-06-26    NCore - North Cheyenne Soccer Complex   \n",
      "665410      665410  2023-06-27    NCore - North Cheyenne Soccer Complex   \n",
      "665411      665411  2023-06-28    NCore - North Cheyenne Soccer Complex   \n",
      "665412      665412  2023-06-29    NCore - North Cheyenne Soccer Complex   \n",
      "665413      665413  2023-06-30    NCore - North Cheyenne Soccer Complex   \n",
      "\n",
      "          State    County      City   O3 Mean  O3 1st Max Value  \\\n",
      "0       Arizona  Maricopa   Phoenix  0.019765             0.040   \n",
      "1       Arizona  Maricopa   Phoenix  0.015882             0.032   \n",
      "2       Arizona  Maricopa   Phoenix  0.009353             0.016   \n",
      "3       Arizona  Maricopa   Phoenix  0.015882             0.033   \n",
      "4       Arizona  Maricopa   Phoenix  0.007353             0.012   \n",
      "...         ...       ...       ...       ...               ...   \n",
      "665409  Wyoming   Laramie  Cheyenne  0.043941             0.050   \n",
      "665410  Wyoming   Laramie  Cheyenne  0.046235             0.054   \n",
      "665411  Wyoming   Laramie  Cheyenne  0.046588             0.055   \n",
      "665412  Wyoming   Laramie  Cheyenne  0.048765             0.056   \n",
      "665413  Wyoming   Laramie  Cheyenne  0.048333             0.051   \n",
      "\n",
      "        O3 1st Max Hour  O3 AQI  ...  CO 1st Max Hour  CO AQI  SO2 Mean  \\\n",
      "0                    10      37  ...               23    25.0  3.000000   \n",
      "1                    10      30  ...                0    26.0  1.958333   \n",
      "2                     9      15  ...                8    28.0  5.250000   \n",
      "3                     9      31  ...               23    34.0  7.083333   \n",
      "4                     9      11  ...                2    42.0  8.708333   \n",
      "...                 ...     ...  ...              ...     ...       ...   \n",
      "665409               12      46  ...                0     0.0  0.117391   \n",
      "665410               12      50  ...                0     0.0  0.091667   \n",
      "665411                7      51  ...                0     0.0  0.091667   \n",
      "665412                9      54  ...                0     0.0  0.052174   \n",
      "665413                7      47  ...                0     0.0  0.020833   \n",
      "\n",
      "        SO2 1st Max Value  SO2 1st Max Hour  SO2 AQI   NO2 Mean  \\\n",
      "0                     9.0                21     13.0  19.041667   \n",
      "1                     3.0                22      4.0  22.958333   \n",
      "2                    11.0                19     16.0  38.125000   \n",
      "3                    16.0                 8     23.0  40.260870   \n",
      "4                    15.0                 7     21.0  48.450000   \n",
      "...                   ...               ...      ...        ...   \n",
      "665409                0.3                 7      0.0   2.282609   \n",
      "665410                0.2                 8      0.0   2.283333   \n",
      "665411                0.2                 6      0.0   2.487500   \n",
      "665412                0.1                 8      0.0   2.086957   \n",
      "665413                0.2                11      0.0   3.200000   \n",
      "\n",
      "        NO2 1st Max Value  NO2 1st Max Hour  NO2 AQI  \n",
      "0                    49.0                19       46  \n",
      "1                    36.0                19       34  \n",
      "2                    51.0                 8       48  \n",
      "3                    74.0                 8       72  \n",
      "4                    61.0                22       58  \n",
      "...                   ...               ...      ...  \n",
      "665409                4.3                 6        4  \n",
      "665410                5.2                 6        5  \n",
      "665411                4.8                19        4  \n",
      "665412                4.1                 8        4  \n",
      "665413               14.8                 3       13  \n",
      "\n",
      "[665414 rows x 22 columns]\n"
     ]
    }
   ],
   "source": [
    "import pandas as pd\n",
    "ds=pd.read_csv('pollution_2000_2023.csv')\n",
    "\n",
    "# Create a DataFrame from an existing dataset 'ds'\n",
    "ds = pd.DataFrame(ds)\n",
    "\n",
    "# Rename the column 'O3 1st Max Value' to 'MaxValue'\n",
    "ds.rename({'O3 1st Max Value': 'MaxValue'}, inplace=True)\n",
    "\n",
    "# Display the DataFrame to check the result\n",
    "print(ds)\n"
   ]
  },
  {
   "cell_type": "code",
   "execution_count": 27,
   "id": "761be8fa-2c40-4cff-af31-659a3d9c13b4",
   "metadata": {},
   "outputs": [
    {
     "data": {
      "text/plain": [
       "<AxesSubplot:ylabel='Frequency'>"
      ]
     },
     "execution_count": 27,
     "metadata": {},
     "output_type": "execute_result"
    },
    {
     "data": {
      "image/png": "[encoded data removed]",
      "text/plain": [
       "<Figure size 640x480 with 1 Axes>"
      ]
     },
     "metadata": {},
     "output_type": "display_data"
    }
   ],
   "source": [
    "ds['O3 1st Max Value'].plot.hist()"
   ]
  },
  {
   "cell_type": "code",
   "execution_count": null,
   "id": "d3ba6ca6-e95e-43b3-9a0a-2fca75e20195",
   "metadata": {},
   "outputs": [],
   "source": []
  },
  {
   "cell_type": "code",
   "execution_count": null,
   "id": "43981b90-1ba5-4b0d-b3f8-5f82b97fd841",
   "metadata": {},
   "outputs": [],
   "source": []
  }
 ],
 "metadata": {
  "kernelspec": {
   "display_name": "Python 3 (ipykernel)",
   "language": "python",
   "name": "python3"
  },
  "language_info": {
   "codemirror_mode": {
    "name": "ipython",
    "version": 3
   },
   "file_extension": ".py",
   "mimetype": "text/x-python",
   "name": "python",
   "nbconvert_exporter": "python",
   "pygments_lexer": "ipython3",
   "version": "3.9.13"
  }
 },
 "nbformat": 4,
 "nbformat_minor": 5
}
